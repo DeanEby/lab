{
 "cells": [
  {
   "cell_type": "markdown",
   "id": "22e86d40",
   "metadata": {},
   "source": [
    "Python Generators:\n",
    "Behave like an iterator - can be used in a for loop.\n",
    "Generators yield items one by one upon request. This makes them lazy and great for working with large datasets.\n",
    "\n",
    "Lazy - Only computes one at a time on request\n",
    "Eager - Computes the whole dataset up front"
   ]
  },
  {
   "cell_type": "code",
   "execution_count": null,
   "id": "b0e864b2",
   "metadata": {},
   "outputs": [],
   "source": []
  }
 ],
 "metadata": {
  "language_info": {
   "name": "python"
  }
 },
 "nbformat": 4,
 "nbformat_minor": 5
}
